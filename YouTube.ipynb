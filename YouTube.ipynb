{
 "cells": [
  {
   "cell_type": "code",
   "execution_count": 1,
   "metadata": {},
   "outputs": [],
   "source": [
    "from selenium import webdriver\n",
    "import pandas as pd\n",
    "from selenium.webdriver.common.by import By\n",
    "from selenium.webdriver.support.ui import WebDriverWait\n",
    "from selenium.webdriver.support import expected_conditions as EC"
   ]
  },
  {
   "cell_type": "code",
   "execution_count": 35,
   "metadata": {},
   "outputs": [],
   "source": [
    "driver = webdriver.Chrome()"
   ]
  },
  {
   "cell_type": "code",
   "execution_count": 20,
   "metadata": {},
   "outputs": [],
   "source": [
    "driver.get(\"https://www.youtube.com/results?search_query=travel\")"
   ]
  },
  {
   "cell_type": "code",
   "execution_count": 14,
   "metadata": {},
   "outputs": [
    {
     "name": "stdout",
     "output_type": "stream",
     "text": [
      "630\n"
     ]
    }
   ],
   "source": [
    "user_data = driver.find_elements_by_xpath('//*[@id=\"video-title\"]')\n",
    "links = []\n",
    "for i in user_data:\n",
    "    links.append(i.get_attribute('href'))\n",
    "print(len(links))\n"
   ]
  },
  {
   "cell_type": "code",
   "execution_count": 15,
   "metadata": {},
   "outputs": [],
   "source": [
    "df_travel = pd.DataFrame(columns = ['link', 'title', 'description', 'category'])"
   ]
  },
  {
   "cell_type": "code",
   "execution_count": 21,
   "metadata": {},
   "outputs": [],
   "source": [
    "wait = WebDriverWait(driver, 10)\n",
    "v_category = \"Travel\"\n",
    "for x in links:\n",
    "    if x!=None:\n",
    "        driver.get(x)\n",
    "        v_id = x.strip('https://www.youtube.com/watch?v=')\n",
    "        v_title = wait.until(EC.presence_of_element_located(\n",
    "            (By.CSS_SELECTOR,\"h1.title yt-formatted-string\"))).text\n",
    "        v_description = wait.until(EC.presence_of_element_located(\n",
    "            (By.CSS_SELECTOR,\"div#description yt-formatted-string\"))).text\n",
    "        df_travel.loc[len(df_travel)] = [v_id, v_title, v_description, v_category]"
   ]
  },
  {
   "cell_type": "code",
   "execution_count": 29,
   "metadata": {},
   "outputs": [],
   "source": [
    "df_travel.to_csv(r'C:\\Users\\Devanand\\Desktop\\Refactored_Py_DS_ML_Bootcamp-master\\travel.csv',index=False,header=True)"
   ]
  },
  {
   "cell_type": "code",
   "execution_count": 34,
   "metadata": {},
   "outputs": [
    {
     "data": {
      "text/html": [
       "<div>\n",
       "<style scoped>\n",
       "    .dataframe tbody tr th:only-of-type {\n",
       "        vertical-align: middle;\n",
       "    }\n",
       "\n",
       "    .dataframe tbody tr th {\n",
       "        vertical-align: top;\n",
       "    }\n",
       "\n",
       "    .dataframe thead th {\n",
       "        text-align: right;\n",
       "    }\n",
       "</style>\n",
       "<table border=\"1\" class=\"dataframe\">\n",
       "  <thead>\n",
       "    <tr style=\"text-align: right;\">\n",
       "      <th></th>\n",
       "      <th>link</th>\n",
       "      <th>title</th>\n",
       "      <th>description</th>\n",
       "      <th>category</th>\n",
       "    </tr>\n",
       "  </thead>\n",
       "  <tbody>\n",
       "    <tr>\n",
       "      <th>0</th>\n",
       "      <td>JLZlCZ0</td>\n",
       "      <td>NaN</td>\n",
       "      <td>The journey to Arunachal, North East India beg...</td>\n",
       "      <td>Travel</td>\n",
       "    </tr>\n",
       "    <tr>\n",
       "      <th>1</th>\n",
       "      <td>CWqFw9kmCn</td>\n",
       "      <td>NaN</td>\n",
       "      <td>Millennials simply quit their jobs to travel. ...</td>\n",
       "      <td>Travel</td>\n",
       "    </tr>\n",
       "    <tr>\n",
       "      <th>2</th>\n",
       "      <td>ODuEl4oNae0</td>\n",
       "      <td>NaN</td>\n",
       "      <td>Do you know what the least visited country in ...</td>\n",
       "      <td>Travel</td>\n",
       "    </tr>\n",
       "    <tr>\n",
       "      <th>3</th>\n",
       "      <td>Qmi-Xwq-ME</td>\n",
       "      <td>NaN</td>\n",
       "      <td>We are selecting one person who makes a purcha...</td>\n",
       "      <td>Travel</td>\n",
       "    </tr>\n",
       "    <tr>\n",
       "      <th>4</th>\n",
       "      <td>_ch7hYh4BtA</td>\n",
       "      <td>NaN</td>\n",
       "      <td>Exploring more of Somalia and travelling to th...</td>\n",
       "      <td>Travel</td>\n",
       "    </tr>\n",
       "  </tbody>\n",
       "</table>\n",
       "</div>"
      ],
      "text/plain": [
       "          link title                                        description  \\\n",
       "0      JLZlCZ0   NaN  The journey to Arunachal, North East India beg...   \n",
       "1   CWqFw9kmCn   NaN  Millennials simply quit their jobs to travel. ...   \n",
       "2  ODuEl4oNae0   NaN  Do you know what the least visited country in ...   \n",
       "3   Qmi-Xwq-ME   NaN  We are selecting one person who makes a purcha...   \n",
       "4  _ch7hYh4BtA   NaN  Exploring more of Somalia and travelling to th...   \n",
       "\n",
       "  category  \n",
       "0   Travel  \n",
       "1   Travel  \n",
       "2   Travel  \n",
       "3   Travel  \n",
       "4   Travel  "
      ]
     },
     "execution_count": 34,
     "metadata": {},
     "output_type": "execute_result"
    }
   ],
   "source": [
    "pd.read_csv(\"travel.csv\").head()\n"
   ]
  },
  {
   "cell_type": "code",
   "execution_count": 131,
   "metadata": {},
   "outputs": [],
   "source": [
    "driver.get(\"https://www.youtube.com/results?search_query=science\")"
   ]
  },
  {
   "cell_type": "code",
   "execution_count": 136,
   "metadata": {},
   "outputs": [
    {
     "name": "stdout",
     "output_type": "stream",
     "text": [
      "536\n"
     ]
    }
   ],
   "source": [
    "user_data = driver.find_elements_by_xpath('//*[@id=\"video-title\"]')\n",
    "links = []\n",
    "for i in user_data:\n",
    "            links.append(i.get_attribute('href'))\n",
    "\n",
    "print(len(links))"
   ]
  },
  {
   "cell_type": "code",
   "execution_count": 137,
   "metadata": {},
   "outputs": [],
   "source": [
    "df_science = pd.DataFrame(columns = ['link', 'title', 'description', 'category'])"
   ]
  },
  {
   "cell_type": "code",
   "execution_count": 138,
   "metadata": {},
   "outputs": [],
   "source": [
    "wait = WebDriverWait(driver, 10)\n",
    "v_category = \"Science\"\n",
    "for x in links:\n",
    "    if x!=None:\n",
    "            driver.get(x)\n",
    "            v_id = x.strip('https://www.youtube.com/watch?v=')\n",
    "            v_title = wait.until(EC.presence_of_element_located(\n",
    "                           (By.CSS_SELECTOR,\"h1.title yt-formatted-string\"))).text\n",
    "            v_description =  wait.until(EC.presence_of_element_located(\n",
    "                                         (By.CSS_SELECTOR,\"div#description yt-formatted-string\"))).text\n",
    "            df_science.loc[len(df_science)] = [v_id, v_title, v_description, v_category]"
   ]
  },
  {
   "cell_type": "code",
   "execution_count": 139,
   "metadata": {},
   "outputs": [],
   "source": [
    "df_science.to_csv(r'C:\\Users\\Devanand\\Desktop\\Refactored_Py_DS_ML_Bootcamp-master\\science.csv',index=False,header=True)"
   ]
  },
  {
   "cell_type": "code",
   "execution_count": 140,
   "metadata": {},
   "outputs": [
    {
     "data": {
      "text/html": [
       "<div>\n",
       "<style scoped>\n",
       "    .dataframe tbody tr th:only-of-type {\n",
       "        vertical-align: middle;\n",
       "    }\n",
       "\n",
       "    .dataframe tbody tr th {\n",
       "        vertical-align: top;\n",
       "    }\n",
       "\n",
       "    .dataframe thead th {\n",
       "        text-align: right;\n",
       "    }\n",
       "</style>\n",
       "<table border=\"1\" class=\"dataframe\">\n",
       "  <thead>\n",
       "    <tr style=\"text-align: right;\">\n",
       "      <th></th>\n",
       "      <th>link</th>\n",
       "      <th>title</th>\n",
       "      <th>description</th>\n",
       "      <th>category</th>\n",
       "    </tr>\n",
       "  </thead>\n",
       "  <tbody>\n",
       "    <tr>\n",
       "      <th>0</th>\n",
       "      <td>KZbEG3U</td>\n",
       "      <td>The Science of Sound || ध्वनि का रहस्य/विज्ञान</td>\n",
       "      <td>Hi Guys Welcome To Question World\\nWe All Want...</td>\n",
       "      <td>Science</td>\n",
       "    </tr>\n",
       "    <tr>\n",
       "      <th>1</th>\n",
       "      <td>VoLZXXQL-YY</td>\n",
       "      <td>9 Incredible Science Facts You Probably Didn't...</td>\n",
       "      <td>Common scientific facts you won't believe are ...</td>\n",
       "      <td>Science</td>\n",
       "    </tr>\n",
       "    <tr>\n",
       "      <th>2</th>\n",
       "      <td>Q6xRG2NCE</td>\n",
       "      <td>🔴LIVE: Blaze's Science Ideas Save the Day! | B...</td>\n",
       "      <td>Blaze is one of Axle City's greatest problem s...</td>\n",
       "      <td>Science</td>\n",
       "    </tr>\n",
       "    <tr>\n",
       "      <th>3</th>\n",
       "      <td>-kHfA2iy6UQ</td>\n",
       "      <td>NaN</td>\n",
       "      <td>Cell Structure and Function L2 | NCERT Class 8...</td>\n",
       "      <td>Science</td>\n",
       "    </tr>\n",
       "    <tr>\n",
       "      <th>4</th>\n",
       "      <td>U8X-fd_zQQ</td>\n",
       "      <td>12 Cool Science Tricks That Will Make Your Fri...</td>\n",
       "      <td>Impress your friends this weekend with these 1...</td>\n",
       "      <td>Science</td>\n",
       "    </tr>\n",
       "  </tbody>\n",
       "</table>\n",
       "</div>"
      ],
      "text/plain": [
       "          link                                              title  \\\n",
       "0      KZbEG3U     The Science of Sound || ध्वनि का रहस्य/विज्ञान   \n",
       "1  VoLZXXQL-YY  9 Incredible Science Facts You Probably Didn't...   \n",
       "2    Q6xRG2NCE  🔴LIVE: Blaze's Science Ideas Save the Day! | B...   \n",
       "3  -kHfA2iy6UQ                                                NaN   \n",
       "4   U8X-fd_zQQ  12 Cool Science Tricks That Will Make Your Fri...   \n",
       "\n",
       "                                         description category  \n",
       "0  Hi Guys Welcome To Question World\\nWe All Want...  Science  \n",
       "1  Common scientific facts you won't believe are ...  Science  \n",
       "2  Blaze is one of Axle City's greatest problem s...  Science  \n",
       "3  Cell Structure and Function L2 | NCERT Class 8...  Science  \n",
       "4  Impress your friends this weekend with these 1...  Science  "
      ]
     },
     "execution_count": 140,
     "metadata": {},
     "output_type": "execute_result"
    }
   ],
   "source": [
    "pd.read_csv(\"science.csv\").head()"
   ]
  },
  {
   "cell_type": "code",
   "execution_count": 52,
   "metadata": {},
   "outputs": [],
   "source": [
    "driver.get(\"https://www.youtube.com/results?search_query=food\")"
   ]
  },
  {
   "cell_type": "code",
   "execution_count": 56,
   "metadata": {},
   "outputs": [
    {
     "name": "stdout",
     "output_type": "stream",
     "text": [
      "500\n"
     ]
    }
   ],
   "source": [
    "user_data = driver.find_elements_by_xpath('//*[@id=\"video-title\"]')\n",
    "links = []\n",
    "for i in user_data:\n",
    "            links.append(i.get_attribute('href'))\n",
    "\n",
    "print(len(links))"
   ]
  },
  {
   "cell_type": "code",
   "execution_count": 57,
   "metadata": {},
   "outputs": [],
   "source": [
    "df_food = pd.DataFrame(columns = ['link', 'title', 'description', 'category'])"
   ]
  },
  {
   "cell_type": "code",
   "execution_count": 58,
   "metadata": {},
   "outputs": [],
   "source": [
    "wait = WebDriverWait(driver, 10)\n",
    "v_category = \"Food\"\n",
    "for x in links:\n",
    "    if x!=None:\n",
    "            driver.get(x)\n",
    "            v_id = x.strip('https://www.youtube.com/watch?v=')\n",
    "            v_title = wait.until(EC.presence_of_element_located(\n",
    "                           (By.CSS_SELECTOR,\"h1.title yt-formatted-string\"))).text\n",
    "            v_description =  wait.until(EC.presence_of_element_located(\n",
    "                                         (By.CSS_SELECTOR,\"div#description yt-formatted-string\"))).text\n",
    "            df_food.loc[len(df_food)] = [v_id, v_title, v_description, v_category]"
   ]
  },
  {
   "cell_type": "code",
   "execution_count": 118,
   "metadata": {},
   "outputs": [],
   "source": [
    "df_food.to_csv(r'C:\\Users\\Devanand\\Desktop\\Refactored_Py_DS_ML_Bootcamp-master\\food.csv',index=False,header=True)"
   ]
  },
  {
   "cell_type": "code",
   "execution_count": 119,
   "metadata": {},
   "outputs": [
    {
     "data": {
      "text/html": [
       "<div>\n",
       "<style scoped>\n",
       "    .dataframe tbody tr th:only-of-type {\n",
       "        vertical-align: middle;\n",
       "    }\n",
       "\n",
       "    .dataframe tbody tr th {\n",
       "        vertical-align: top;\n",
       "    }\n",
       "\n",
       "    .dataframe thead th {\n",
       "        text-align: right;\n",
       "    }\n",
       "</style>\n",
       "<table border=\"1\" class=\"dataframe\">\n",
       "  <thead>\n",
       "    <tr style=\"text-align: right;\">\n",
       "      <th></th>\n",
       "      <th>link</th>\n",
       "      <th>title</th>\n",
       "      <th>description</th>\n",
       "      <th>category</th>\n",
       "    </tr>\n",
       "  </thead>\n",
       "  <tbody>\n",
       "    <tr>\n",
       "      <th>0</th>\n",
       "      <td>0SPwwpruGIA</td>\n",
       "      <td>NaN</td>\n",
       "      <td>This is the ultimate must-try food bucket list...</td>\n",
       "      <td>Food</td>\n",
       "    </tr>\n",
       "    <tr>\n",
       "      <th>1</th>\n",
       "      <td>X6-iv7</td>\n",
       "      <td>CRAZY FOOD HACKS || Unusual Recipes That Will ...</td>\n",
       "      <td>TIMESTAMPS:\\n00:04 DIY Giant food\\n01:14 Giant...</td>\n",
       "      <td>Food</td>\n",
       "    </tr>\n",
       "    <tr>\n",
       "      <th>2</th>\n",
       "      <td>BBj2oeJWW4</td>\n",
       "      <td>Egyptian Street Food - Seafood HEAVEN + Tradit...</td>\n",
       "      <td>Check out https://ExpressVPN.com/thefoodranger...</td>\n",
       "      <td>Food</td>\n",
       "    </tr>\n",
       "    <tr>\n",
       "      <th>3</th>\n",
       "      <td>LAsnbgOoGz</td>\n",
       "      <td>NaN</td>\n",
       "      <td>Download BalleBaazi app \\nManage by -: AdMart....</td>\n",
       "      <td>Food</td>\n",
       "    </tr>\n",
       "    <tr>\n",
       "      <th>4</th>\n",
       "      <td>LHr1na5DZ44</td>\n",
       "      <td>101 Indian Street Food Dishes to Eat Before Yo...</td>\n",
       "      <td>🧳 101 Indian Street Food Dishes Kindle Book: h...</td>\n",
       "      <td>Food</td>\n",
       "    </tr>\n",
       "  </tbody>\n",
       "</table>\n",
       "</div>"
      ],
      "text/plain": [
       "          link                                              title  \\\n",
       "0  0SPwwpruGIA                                                NaN   \n",
       "1       X6-iv7  CRAZY FOOD HACKS || Unusual Recipes That Will ...   \n",
       "2   BBj2oeJWW4  Egyptian Street Food - Seafood HEAVEN + Tradit...   \n",
       "3   LAsnbgOoGz                                                NaN   \n",
       "4  LHr1na5DZ44  101 Indian Street Food Dishes to Eat Before Yo...   \n",
       "\n",
       "                                         description category  \n",
       "0  This is the ultimate must-try food bucket list...     Food  \n",
       "1  TIMESTAMPS:\\n00:04 DIY Giant food\\n01:14 Giant...     Food  \n",
       "2  Check out https://ExpressVPN.com/thefoodranger...     Food  \n",
       "3  Download BalleBaazi app \\nManage by -: AdMart....     Food  \n",
       "4  🧳 101 Indian Street Food Dishes Kindle Book: h...     Food  "
      ]
     },
     "execution_count": 119,
     "metadata": {},
     "output_type": "execute_result"
    }
   ],
   "source": [
    "pd.read_csv(\"food.csv\").head()"
   ]
  },
  {
   "cell_type": "code",
   "execution_count": 63,
   "metadata": {},
   "outputs": [],
   "source": [
    "driver.get(\"https://www.youtube.com/results?search_query=history\")"
   ]
  },
  {
   "cell_type": "code",
   "execution_count": 68,
   "metadata": {},
   "outputs": [
    {
     "name": "stdout",
     "output_type": "stream",
     "text": [
      "533\n"
     ]
    }
   ],
   "source": [
    "user_data = driver.find_elements_by_xpath('//*[@id=\"video-title\"]')\n",
    "links = []\n",
    "for i in user_data:\n",
    "            links.append(i.get_attribute('href'))\n",
    "\n",
    "print(len(links))"
   ]
  },
  {
   "cell_type": "code",
   "execution_count": 69,
   "metadata": {},
   "outputs": [],
   "source": [
    "df_history = pd.DataFrame(columns = ['link', 'title', 'description', 'category'])"
   ]
  },
  {
   "cell_type": "code",
   "execution_count": 70,
   "metadata": {},
   "outputs": [],
   "source": [
    "wait = WebDriverWait(driver, 10)\n",
    "v_category = \"history\"\n",
    "for x in links:\n",
    "    if x!=None:\n",
    "            driver.get(x)\n",
    "            v_id = x.strip('https://www.youtube.com/watch?v=')\n",
    "            v_title = wait.until(EC.presence_of_element_located(\n",
    "                           (By.CSS_SELECTOR,\"h1.title yt-formatted-string\"))).text\n",
    "            v_description =  wait.until(EC.presence_of_element_located(\n",
    "                                         (By.CSS_SELECTOR,\"div#description yt-formatted-string\"))).text\n",
    "            df_history.loc[len(df_history)] = [v_id, v_title, v_description, v_category]"
   ]
  },
  {
   "cell_type": "code",
   "execution_count": 124,
   "metadata": {},
   "outputs": [],
   "source": [
    "df_history.to_csv(r'C:\\Users\\Devanand\\Desktop\\Refactored_Py_DS_ML_Bootcamp-master\\history.csv',index=False,header=True)"
   ]
  },
  {
   "cell_type": "code",
   "execution_count": 125,
   "metadata": {},
   "outputs": [
    {
     "data": {
      "text/html": [
       "<div>\n",
       "<style scoped>\n",
       "    .dataframe tbody tr th:only-of-type {\n",
       "        vertical-align: middle;\n",
       "    }\n",
       "\n",
       "    .dataframe tbody tr th {\n",
       "        vertical-align: top;\n",
       "    }\n",
       "\n",
       "    .dataframe thead th {\n",
       "        text-align: right;\n",
       "    }\n",
       "</style>\n",
       "<table border=\"1\" class=\"dataframe\">\n",
       "  <thead>\n",
       "    <tr style=\"text-align: right;\">\n",
       "      <th></th>\n",
       "      <th>link</th>\n",
       "      <th>title</th>\n",
       "      <th>description</th>\n",
       "      <th>category</th>\n",
       "    </tr>\n",
       "  </thead>\n",
       "  <tbody>\n",
       "    <tr>\n",
       "      <th>0</th>\n",
       "      <td>jmp8CoZBI</td>\n",
       "      <td>NaN</td>\n",
       "      <td>One Direction – History (Official Video)\\nFoll...</td>\n",
       "      <td>history</td>\n",
       "    </tr>\n",
       "    <tr>\n",
       "      <th>1</th>\n",
       "      <td>3DQC3S3bJc0</td>\n",
       "      <td>The Mayflower: 400th Anniversary Special | His...</td>\n",
       "      <td>In today's special episode of History Hit Live...</td>\n",
       "      <td>history</td>\n",
       "    </tr>\n",
       "    <tr>\n",
       "      <th>2</th>\n",
       "      <td>6vaWug73kD</td>\n",
       "      <td>10 Biggest Lies Ever Told In History</td>\n",
       "      <td>History is written by the victor - is very tru...</td>\n",
       "      <td>history</td>\n",
       "    </tr>\n",
       "    <tr>\n",
       "      <th>3</th>\n",
       "      <td>R1Pmcy74Kf</td>\n",
       "      <td>One Direction - History (Official 4K Video)</td>\n",
       "      <td>One Direction – History (Official Video)\\nFoll...</td>\n",
       "      <td>history</td>\n",
       "    </tr>\n",
       "    <tr>\n",
       "      <th>4</th>\n",
       "      <td>WltJPKFo_J4</td>\n",
       "      <td>NaN</td>\n",
       "      <td>This is the first part of The History of the W...</td>\n",
       "      <td>history</td>\n",
       "    </tr>\n",
       "  </tbody>\n",
       "</table>\n",
       "</div>"
      ],
      "text/plain": [
       "          link                                              title  \\\n",
       "0    jmp8CoZBI                                                NaN   \n",
       "1  3DQC3S3bJc0  The Mayflower: 400th Anniversary Special | His...   \n",
       "2   6vaWug73kD               10 Biggest Lies Ever Told In History   \n",
       "3   R1Pmcy74Kf        One Direction - History (Official 4K Video)   \n",
       "4  WltJPKFo_J4                                                NaN   \n",
       "\n",
       "                                         description category  \n",
       "0  One Direction – History (Official Video)\\nFoll...  history  \n",
       "1  In today's special episode of History Hit Live...  history  \n",
       "2  History is written by the victor - is very tru...  history  \n",
       "3  One Direction – History (Official Video)\\nFoll...  history  \n",
       "4  This is the first part of The History of the W...  history  "
      ]
     },
     "execution_count": 125,
     "metadata": {},
     "output_type": "execute_result"
    }
   ],
   "source": [
    "pd.read_csv(\"history.csv\").head()"
   ]
  },
  {
   "cell_type": "code",
   "execution_count": 75,
   "metadata": {},
   "outputs": [],
   "source": [
    "driver.get(\"https://www.youtube.com/results?search_query=manufacturing\")"
   ]
  },
  {
   "cell_type": "code",
   "execution_count": 77,
   "metadata": {},
   "outputs": [
    {
     "name": "stdout",
     "output_type": "stream",
     "text": [
      "562\n"
     ]
    }
   ],
   "source": [
    "user_data = driver.find_elements_by_xpath('//*[@id=\"video-title\"]')\n",
    "links = []\n",
    "for i in user_data:\n",
    "            links.append(i.get_attribute('href'))\n",
    "\n",
    "print(len(links))"
   ]
  },
  {
   "cell_type": "code",
   "execution_count": 78,
   "metadata": {},
   "outputs": [],
   "source": [
    "df_manufacturing= pd.DataFrame(columns = ['link', 'title', 'description', 'category'])"
   ]
  },
  {
   "cell_type": "code",
   "execution_count": 79,
   "metadata": {},
   "outputs": [],
   "source": [
    "wait = WebDriverWait(driver, 10)\n",
    "v_category = \"manufacturing\"\n",
    "for x in links:\n",
    "    if x!=None:\n",
    "            driver.get(x)\n",
    "            v_id = x.strip('https://www.youtube.com/watch?v=')\n",
    "            v_title = wait.until(EC.presence_of_element_located(\n",
    "                           (By.CSS_SELECTOR,\"h1.title yt-formatted-string\"))).text\n",
    "            v_description =  wait.until(EC.presence_of_element_located(\n",
    "                                         (By.CSS_SELECTOR,\"div#description yt-formatted-string\"))).text\n",
    "            df_manufacturing.loc[len(df_manufacturing)] = [v_id, v_title, v_description, v_category]"
   ]
  },
  {
   "cell_type": "code",
   "execution_count": 127,
   "metadata": {},
   "outputs": [],
   "source": [
    "df_manufacturing.to_csv(r'C:\\Users\\Devanand\\Desktop\\Refactored_Py_DS_ML_Bootcamp-master\\manufacturing.csv',\n",
    "                        index=False,header=True)"
   ]
  },
  {
   "cell_type": "code",
   "execution_count": 128,
   "metadata": {},
   "outputs": [
    {
     "data": {
      "text/html": [
       "<div>\n",
       "<style scoped>\n",
       "    .dataframe tbody tr th:only-of-type {\n",
       "        vertical-align: middle;\n",
       "    }\n",
       "\n",
       "    .dataframe tbody tr th {\n",
       "        vertical-align: top;\n",
       "    }\n",
       "\n",
       "    .dataframe thead th {\n",
       "        text-align: right;\n",
       "    }\n",
       "</style>\n",
       "<table border=\"1\" class=\"dataframe\">\n",
       "  <thead>\n",
       "    <tr style=\"text-align: right;\">\n",
       "      <th></th>\n",
       "      <th>link</th>\n",
       "      <th>title</th>\n",
       "      <th>description</th>\n",
       "      <th>category</th>\n",
       "    </tr>\n",
       "  </thead>\n",
       "  <tbody>\n",
       "    <tr>\n",
       "      <th>0</th>\n",
       "      <td>XyP_7IZzpeI</td>\n",
       "      <td>NaN</td>\n",
       "      <td>Modern Continuous Manufacturing Processes For ...</td>\n",
       "      <td>manufacturing</td>\n",
       "    </tr>\n",
       "    <tr>\n",
       "      <th>1</th>\n",
       "      <td>Y8GT6Wv9mQE</td>\n",
       "      <td>Most Interesting Manufacturing Processes That ...</td>\n",
       "      <td>Amazing Manufacturing Processes Everyone Shoul...</td>\n",
       "      <td>manufacturing</td>\n",
       "    </tr>\n",
       "    <tr>\n",
       "      <th>2</th>\n",
       "      <td>xAv4qKrKvII</td>\n",
       "      <td>Awesome Manufacturing and Processing Methods N...</td>\n",
       "      <td>Awesome Manufacturing and Processing Methods N...</td>\n",
       "      <td>manufacturing</td>\n",
       "    </tr>\n",
       "    <tr>\n",
       "      <th>3</th>\n",
       "      <td>SFomXXXYMX</td>\n",
       "      <td>Amazing Plywood Manufacturing Process ! Extrem...</td>\n",
       "      <td>Woodart is a channel that show all Woodworks:\\...</td>\n",
       "      <td>manufacturing</td>\n",
       "    </tr>\n",
       "    <tr>\n",
       "      <th>4</th>\n",
       "      <td>xh8LdkoAcQ</td>\n",
       "      <td>Most amazing modern manufacturing process tech...</td>\n",
       "      <td>Most amazing modern manufacturing process tech...</td>\n",
       "      <td>manufacturing</td>\n",
       "    </tr>\n",
       "  </tbody>\n",
       "</table>\n",
       "</div>"
      ],
      "text/plain": [
       "          link                                              title  \\\n",
       "0  XyP_7IZzpeI                                                NaN   \n",
       "1  Y8GT6Wv9mQE  Most Interesting Manufacturing Processes That ...   \n",
       "2  xAv4qKrKvII  Awesome Manufacturing and Processing Methods N...   \n",
       "3   SFomXXXYMX  Amazing Plywood Manufacturing Process ! Extrem...   \n",
       "4   xh8LdkoAcQ  Most amazing modern manufacturing process tech...   \n",
       "\n",
       "                                         description       category  \n",
       "0  Modern Continuous Manufacturing Processes For ...  manufacturing  \n",
       "1  Amazing Manufacturing Processes Everyone Shoul...  manufacturing  \n",
       "2  Awesome Manufacturing and Processing Methods N...  manufacturing  \n",
       "3  Woodart is a channel that show all Woodworks:\\...  manufacturing  \n",
       "4  Most amazing modern manufacturing process tech...  manufacturing  "
      ]
     },
     "execution_count": 128,
     "metadata": {},
     "output_type": "execute_result"
    }
   ],
   "source": [
    "pd.read_csv(\"manufacturing.csv\").head()"
   ]
  },
  {
   "cell_type": "code",
   "execution_count": 85,
   "metadata": {},
   "outputs": [],
   "source": [
    "driver.get(\"https://www.youtube.com/results?search_query=art_dance\")"
   ]
  },
  {
   "cell_type": "code",
   "execution_count": 88,
   "metadata": {},
   "outputs": [
    {
     "name": "stdout",
     "output_type": "stream",
     "text": [
      "503\n"
     ]
    }
   ],
   "source": [
    "user_data = driver.find_elements_by_xpath('//*[@id=\"video-title\"]')\n",
    "links = []\n",
    "for i in user_data:\n",
    "            links.append(i.get_attribute('href'))\n",
    "\n",
    "print(len(links))"
   ]
  },
  {
   "cell_type": "code",
   "execution_count": 89,
   "metadata": {},
   "outputs": [],
   "source": [
    "df_artndance = pd.DataFrame(columns = ['link', 'title', 'description', 'category'])"
   ]
  },
  {
   "cell_type": "code",
   "execution_count": 90,
   "metadata": {},
   "outputs": [],
   "source": [
    "wait = WebDriverWait(driver, 10)\n",
    "v_category = \"artndance\"\n",
    "for x in links[:420]:\n",
    "    if x!=None:\n",
    "            driver.get(x)\n",
    "            v_id = x.strip('https://www.youtube.com/watch?v=')\n",
    "            v_title = wait.until(EC.presence_of_element_located(\n",
    "                           (By.CSS_SELECTOR,\"h1.title yt-formatted-string\"))).text\n",
    "            v_description =  wait.until(EC.presence_of_element_located(\n",
    "                                         (By.CSS_SELECTOR,\"div#description yt-formatted-string\"))).text\n",
    "            df_artndance.loc[len(df_artndance)] = [v_id, v_title, v_description, v_category]"
   ]
  },
  {
   "cell_type": "code",
   "execution_count": 129,
   "metadata": {},
   "outputs": [],
   "source": [
    "df_artndance.to_csv(r'C:\\Users\\Devanand\\Desktop\\Refactored_Py_DS_ML_Bootcamp-master\\artndance.csv',index=False,header=True)"
   ]
  },
  {
   "cell_type": "code",
   "execution_count": 130,
   "metadata": {},
   "outputs": [
    {
     "data": {
      "text/html": [
       "<div>\n",
       "<style scoped>\n",
       "    .dataframe tbody tr th:only-of-type {\n",
       "        vertical-align: middle;\n",
       "    }\n",
       "\n",
       "    .dataframe tbody tr th {\n",
       "        vertical-align: top;\n",
       "    }\n",
       "\n",
       "    .dataframe thead th {\n",
       "        text-align: right;\n",
       "    }\n",
       "</style>\n",
       "<table border=\"1\" class=\"dataframe\">\n",
       "  <thead>\n",
       "    <tr style=\"text-align: right;\">\n",
       "      <th></th>\n",
       "      <th>link</th>\n",
       "      <th>title</th>\n",
       "      <th>description</th>\n",
       "      <th>category</th>\n",
       "    </tr>\n",
       "  </thead>\n",
       "  <tbody>\n",
       "    <tr>\n",
       "      <th>0</th>\n",
       "      <td>1UV3zen3lv4</td>\n",
       "      <td>NaN</td>\n",
       "      <td>#toma #luisasonza #mczaac\\nTOMA - Luísa Sonza,...</td>\n",
       "      <td>artndance</td>\n",
       "    </tr>\n",
       "    <tr>\n",
       "      <th>1</th>\n",
       "      <td>ff-y0G205J</td>\n",
       "      <td>NO TE SOLTARE - Yandel, Nicky Jam- Zumba - Reg...</td>\n",
       "      <td>NO TE SOLTARE - Yandel, Nicky Jam- Zumba - Reg...</td>\n",
       "      <td>artndance</td>\n",
       "    </tr>\n",
       "    <tr>\n",
       "      <th>2</th>\n",
       "      <td>l0-INrfxD1Y</td>\n",
       "      <td>WARM UP - Zumba® - ShowMan Pitbull l Choreogra...</td>\n",
       "      <td>WARM UP - Zumba® - ShowMan Pitbull l Choreogra...</td>\n",
       "      <td>artndance</td>\n",
       "    </tr>\n",
       "    <tr>\n",
       "      <th>3</th>\n",
       "      <td>RkNDsETIU5U</td>\n",
       "      <td>VIBE ART DANCE STUDIO - Faraon</td>\n",
       "      <td>Gurinel TV - Prima televiziune a copiilor din ...</td>\n",
       "      <td>artndance</td>\n",
       "    </tr>\n",
       "    <tr>\n",
       "      <th>4</th>\n",
       "      <td>qRVsL1ZP1Y</td>\n",
       "      <td>WARM UP 2018 - Zumba® - Dj Baddmixx - Coreogra...</td>\n",
       "      <td>WARM UP 2018 -  Zumba® - Dj Baddmixx - Coreogr...</td>\n",
       "      <td>artndance</td>\n",
       "    </tr>\n",
       "  </tbody>\n",
       "</table>\n",
       "</div>"
      ],
      "text/plain": [
       "          link                                              title  \\\n",
       "0  1UV3zen3lv4                                                NaN   \n",
       "1   ff-y0G205J  NO TE SOLTARE - Yandel, Nicky Jam- Zumba - Reg...   \n",
       "2  l0-INrfxD1Y  WARM UP - Zumba® - ShowMan Pitbull l Choreogra...   \n",
       "3  RkNDsETIU5U                     VIBE ART DANCE STUDIO - Faraon   \n",
       "4   qRVsL1ZP1Y  WARM UP 2018 - Zumba® - Dj Baddmixx - Coreogra...   \n",
       "\n",
       "                                         description   category  \n",
       "0  #toma #luisasonza #mczaac\\nTOMA - Luísa Sonza,...  artndance  \n",
       "1  NO TE SOLTARE - Yandel, Nicky Jam- Zumba - Reg...  artndance  \n",
       "2  WARM UP - Zumba® - ShowMan Pitbull l Choreogra...  artndance  \n",
       "3  Gurinel TV - Prima televiziune a copiilor din ...  artndance  \n",
       "4  WARM UP 2018 -  Zumba® - Dj Baddmixx - Coreogr...  artndance  "
      ]
     },
     "execution_count": 130,
     "metadata": {},
     "output_type": "execute_result"
    }
   ],
   "source": [
    "pd.read_csv(\"artndance.csv\").head()"
   ]
  },
  {
   "cell_type": "code",
   "execution_count": 110,
   "metadata": {},
   "outputs": [],
   "source": [
    "import numpy as np"
   ]
  },
  {
   "cell_type": "code",
   "execution_count": 141,
   "metadata": {},
   "outputs": [
    {
     "name": "stdout",
     "output_type": "stream",
     "text": [
      "658\n"
     ]
    },
    {
     "data": {
      "text/html": [
       "<div>\n",
       "<style scoped>\n",
       "    .dataframe tbody tr th:only-of-type {\n",
       "        vertical-align: middle;\n",
       "    }\n",
       "\n",
       "    .dataframe tbody tr th {\n",
       "        vertical-align: top;\n",
       "    }\n",
       "\n",
       "    .dataframe thead th {\n",
       "        text-align: right;\n",
       "    }\n",
       "</style>\n",
       "<table border=\"1\" class=\"dataframe\">\n",
       "  <thead>\n",
       "    <tr style=\"text-align: right;\">\n",
       "      <th></th>\n",
       "      <th>link</th>\n",
       "      <th>title</th>\n",
       "      <th>description</th>\n",
       "      <th>category</th>\n",
       "    </tr>\n",
       "  </thead>\n",
       "  <tbody>\n",
       "    <tr>\n",
       "      <th>0</th>\n",
       "      <td>JLZlCZ0</td>\n",
       "      <td>travel</td>\n",
       "      <td>The journey to Arunachal, North East India beg...</td>\n",
       "      <td>Travel</td>\n",
       "    </tr>\n",
       "    <tr>\n",
       "      <th>1</th>\n",
       "      <td>CWqFw9kmCn</td>\n",
       "      <td>travel</td>\n",
       "      <td>Millennials simply quit their jobs to travel. ...</td>\n",
       "      <td>Travel</td>\n",
       "    </tr>\n",
       "    <tr>\n",
       "      <th>2</th>\n",
       "      <td>ODuEl4oNae0</td>\n",
       "      <td>travel</td>\n",
       "      <td>Do you know what the least visited country in ...</td>\n",
       "      <td>Travel</td>\n",
       "    </tr>\n",
       "    <tr>\n",
       "      <th>3</th>\n",
       "      <td>Qmi-Xwq-ME</td>\n",
       "      <td>travel</td>\n",
       "      <td>We are selecting one person who makes a purcha...</td>\n",
       "      <td>Travel</td>\n",
       "    </tr>\n",
       "    <tr>\n",
       "      <th>4</th>\n",
       "      <td>_ch7hYh4BtA</td>\n",
       "      <td>travel</td>\n",
       "      <td>Exploring more of Somalia and travelling to th...</td>\n",
       "      <td>Travel</td>\n",
       "    </tr>\n",
       "  </tbody>\n",
       "</table>\n",
       "</div>"
      ],
      "text/plain": [
       "          link   title                                        description  \\\n",
       "0      JLZlCZ0  travel  The journey to Arunachal, North East India beg...   \n",
       "1   CWqFw9kmCn  travel  Millennials simply quit their jobs to travel. ...   \n",
       "2  ODuEl4oNae0  travel  Do you know what the least visited country in ...   \n",
       "3   Qmi-Xwq-ME  travel  We are selecting one person who makes a purcha...   \n",
       "4  _ch7hYh4BtA  travel  Exploring more of Somalia and travelling to th...   \n",
       "\n",
       "  category  \n",
       "0   Travel  \n",
       "1   Travel  \n",
       "2   Travel  \n",
       "3   Travel  \n",
       "4   Travel  "
      ]
     },
     "execution_count": 141,
     "metadata": {},
     "output_type": "execute_result"
    }
   ],
   "source": [
    "df_travel = pd.read_csv(r\"C:\\Users\\Devanand\\Desktop\\Refactored_Py_DS_ML_Bootcamp-master\\travel.csv\")\n",
    "df_travel['title'] = df_travel['title'].replace(np.nan,'travel')\n",
    "print(len(df_travel))\n",
    "df_travel.head()"
   ]
  },
  {
   "cell_type": "code",
   "execution_count": 142,
   "metadata": {},
   "outputs": [
    {
     "name": "stdout",
     "output_type": "stream",
     "text": [
      "521\n"
     ]
    },
    {
     "data": {
      "text/html": [
       "<div>\n",
       "<style scoped>\n",
       "    .dataframe tbody tr th:only-of-type {\n",
       "        vertical-align: middle;\n",
       "    }\n",
       "\n",
       "    .dataframe tbody tr th {\n",
       "        vertical-align: top;\n",
       "    }\n",
       "\n",
       "    .dataframe thead th {\n",
       "        text-align: right;\n",
       "    }\n",
       "</style>\n",
       "<table border=\"1\" class=\"dataframe\">\n",
       "  <thead>\n",
       "    <tr style=\"text-align: right;\">\n",
       "      <th></th>\n",
       "      <th>link</th>\n",
       "      <th>title</th>\n",
       "      <th>description</th>\n",
       "      <th>category</th>\n",
       "    </tr>\n",
       "  </thead>\n",
       "  <tbody>\n",
       "    <tr>\n",
       "      <th>0</th>\n",
       "      <td>KZbEG3U</td>\n",
       "      <td>The Science of Sound || ध्वनि का रहस्य/विज्ञान</td>\n",
       "      <td>Hi Guys Welcome To Question World\\nWe All Want...</td>\n",
       "      <td>Science</td>\n",
       "    </tr>\n",
       "    <tr>\n",
       "      <th>1</th>\n",
       "      <td>VoLZXXQL-YY</td>\n",
       "      <td>9 Incredible Science Facts You Probably Didn't...</td>\n",
       "      <td>Common scientific facts you won't believe are ...</td>\n",
       "      <td>Science</td>\n",
       "    </tr>\n",
       "    <tr>\n",
       "      <th>2</th>\n",
       "      <td>Q6xRG2NCE</td>\n",
       "      <td>🔴LIVE: Blaze's Science Ideas Save the Day! | B...</td>\n",
       "      <td>Blaze is one of Axle City's greatest problem s...</td>\n",
       "      <td>Science</td>\n",
       "    </tr>\n",
       "    <tr>\n",
       "      <th>3</th>\n",
       "      <td>-kHfA2iy6UQ</td>\n",
       "      <td>science</td>\n",
       "      <td>Cell Structure and Function L2 | NCERT Class 8...</td>\n",
       "      <td>Science</td>\n",
       "    </tr>\n",
       "    <tr>\n",
       "      <th>4</th>\n",
       "      <td>U8X-fd_zQQ</td>\n",
       "      <td>12 Cool Science Tricks That Will Make Your Fri...</td>\n",
       "      <td>Impress your friends this weekend with these 1...</td>\n",
       "      <td>Science</td>\n",
       "    </tr>\n",
       "  </tbody>\n",
       "</table>\n",
       "</div>"
      ],
      "text/plain": [
       "          link                                              title  \\\n",
       "0      KZbEG3U     The Science of Sound || ध्वनि का रहस्य/विज्ञान   \n",
       "1  VoLZXXQL-YY  9 Incredible Science Facts You Probably Didn't...   \n",
       "2    Q6xRG2NCE  🔴LIVE: Blaze's Science Ideas Save the Day! | B...   \n",
       "3  -kHfA2iy6UQ                                            science   \n",
       "4   U8X-fd_zQQ  12 Cool Science Tricks That Will Make Your Fri...   \n",
       "\n",
       "                                         description category  \n",
       "0  Hi Guys Welcome To Question World\\nWe All Want...  Science  \n",
       "1  Common scientific facts you won't believe are ...  Science  \n",
       "2  Blaze is one of Axle City's greatest problem s...  Science  \n",
       "3  Cell Structure and Function L2 | NCERT Class 8...  Science  \n",
       "4  Impress your friends this weekend with these 1...  Science  "
      ]
     },
     "execution_count": 142,
     "metadata": {},
     "output_type": "execute_result"
    }
   ],
   "source": [
    "df_science = pd.read_csv(r\"C:\\Users\\Devanand\\Desktop\\Refactored_Py_DS_ML_Bootcamp-master\\science.csv\")\n",
    "df_science['title'] = df_science['title'].replace(np.nan,'science')\n",
    "print(len(df_science))\n",
    "df_science.head()"
   ]
  },
  {
   "cell_type": "code",
   "execution_count": 143,
   "metadata": {},
   "outputs": [
    {
     "name": "stdout",
     "output_type": "stream",
     "text": [
      "509\n"
     ]
    },
    {
     "data": {
      "text/html": [
       "<div>\n",
       "<style scoped>\n",
       "    .dataframe tbody tr th:only-of-type {\n",
       "        vertical-align: middle;\n",
       "    }\n",
       "\n",
       "    .dataframe tbody tr th {\n",
       "        vertical-align: top;\n",
       "    }\n",
       "\n",
       "    .dataframe thead th {\n",
       "        text-align: right;\n",
       "    }\n",
       "</style>\n",
       "<table border=\"1\" class=\"dataframe\">\n",
       "  <thead>\n",
       "    <tr style=\"text-align: right;\">\n",
       "      <th></th>\n",
       "      <th>link</th>\n",
       "      <th>title</th>\n",
       "      <th>description</th>\n",
       "      <th>category</th>\n",
       "    </tr>\n",
       "  </thead>\n",
       "  <tbody>\n",
       "    <tr>\n",
       "      <th>0</th>\n",
       "      <td>jmp8CoZBI</td>\n",
       "      <td>history</td>\n",
       "      <td>One Direction – History (Official Video)\\nFoll...</td>\n",
       "      <td>history</td>\n",
       "    </tr>\n",
       "    <tr>\n",
       "      <th>1</th>\n",
       "      <td>3DQC3S3bJc0</td>\n",
       "      <td>The Mayflower: 400th Anniversary Special | His...</td>\n",
       "      <td>In today's special episode of History Hit Live...</td>\n",
       "      <td>history</td>\n",
       "    </tr>\n",
       "    <tr>\n",
       "      <th>2</th>\n",
       "      <td>6vaWug73kD</td>\n",
       "      <td>10 Biggest Lies Ever Told In History</td>\n",
       "      <td>History is written by the victor - is very tru...</td>\n",
       "      <td>history</td>\n",
       "    </tr>\n",
       "    <tr>\n",
       "      <th>3</th>\n",
       "      <td>R1Pmcy74Kf</td>\n",
       "      <td>One Direction - History (Official 4K Video)</td>\n",
       "      <td>One Direction – History (Official Video)\\nFoll...</td>\n",
       "      <td>history</td>\n",
       "    </tr>\n",
       "    <tr>\n",
       "      <th>4</th>\n",
       "      <td>WltJPKFo_J4</td>\n",
       "      <td>history</td>\n",
       "      <td>This is the first part of The History of the W...</td>\n",
       "      <td>history</td>\n",
       "    </tr>\n",
       "  </tbody>\n",
       "</table>\n",
       "</div>"
      ],
      "text/plain": [
       "          link                                              title  \\\n",
       "0    jmp8CoZBI                                            history   \n",
       "1  3DQC3S3bJc0  The Mayflower: 400th Anniversary Special | His...   \n",
       "2   6vaWug73kD               10 Biggest Lies Ever Told In History   \n",
       "3   R1Pmcy74Kf        One Direction - History (Official 4K Video)   \n",
       "4  WltJPKFo_J4                                            history   \n",
       "\n",
       "                                         description category  \n",
       "0  One Direction – History (Official Video)\\nFoll...  history  \n",
       "1  In today's special episode of History Hit Live...  history  \n",
       "2  History is written by the victor - is very tru...  history  \n",
       "3  One Direction – History (Official Video)\\nFoll...  history  \n",
       "4  This is the first part of The History of the W...  history  "
      ]
     },
     "execution_count": 143,
     "metadata": {},
     "output_type": "execute_result"
    }
   ],
   "source": [
    "df_history = pd.read_csv(r\"C:\\Users\\Devanand\\Desktop\\Refactored_Py_DS_ML_Bootcamp-master\\history.csv\")\n",
    "df_history['title'] = df_history['title'].replace(np.nan,'history')\n",
    "print(len(df_history))\n",
    "df_history.head()"
   ]
  },
  {
   "cell_type": "code",
   "execution_count": 144,
   "metadata": {},
   "outputs": [
    {
     "name": "stdout",
     "output_type": "stream",
     "text": [
      "500\n"
     ]
    },
    {
     "data": {
      "text/html": [
       "<div>\n",
       "<style scoped>\n",
       "    .dataframe tbody tr th:only-of-type {\n",
       "        vertical-align: middle;\n",
       "    }\n",
       "\n",
       "    .dataframe tbody tr th {\n",
       "        vertical-align: top;\n",
       "    }\n",
       "\n",
       "    .dataframe thead th {\n",
       "        text-align: right;\n",
       "    }\n",
       "</style>\n",
       "<table border=\"1\" class=\"dataframe\">\n",
       "  <thead>\n",
       "    <tr style=\"text-align: right;\">\n",
       "      <th></th>\n",
       "      <th>link</th>\n",
       "      <th>title</th>\n",
       "      <th>description</th>\n",
       "      <th>category</th>\n",
       "    </tr>\n",
       "  </thead>\n",
       "  <tbody>\n",
       "    <tr>\n",
       "      <th>0</th>\n",
       "      <td>0SPwwpruGIA</td>\n",
       "      <td>food</td>\n",
       "      <td>This is the ultimate must-try food bucket list...</td>\n",
       "      <td>Food</td>\n",
       "    </tr>\n",
       "    <tr>\n",
       "      <th>1</th>\n",
       "      <td>X6-iv7</td>\n",
       "      <td>CRAZY FOOD HACKS || Unusual Recipes That Will ...</td>\n",
       "      <td>TIMESTAMPS:\\n00:04 DIY Giant food\\n01:14 Giant...</td>\n",
       "      <td>Food</td>\n",
       "    </tr>\n",
       "    <tr>\n",
       "      <th>2</th>\n",
       "      <td>BBj2oeJWW4</td>\n",
       "      <td>Egyptian Street Food - Seafood HEAVEN + Tradit...</td>\n",
       "      <td>Check out https://ExpressVPN.com/thefoodranger...</td>\n",
       "      <td>Food</td>\n",
       "    </tr>\n",
       "    <tr>\n",
       "      <th>3</th>\n",
       "      <td>LAsnbgOoGz</td>\n",
       "      <td>food</td>\n",
       "      <td>Download BalleBaazi app \\nManage by -: AdMart....</td>\n",
       "      <td>Food</td>\n",
       "    </tr>\n",
       "    <tr>\n",
       "      <th>4</th>\n",
       "      <td>LHr1na5DZ44</td>\n",
       "      <td>101 Indian Street Food Dishes to Eat Before Yo...</td>\n",
       "      <td>🧳 101 Indian Street Food Dishes Kindle Book: h...</td>\n",
       "      <td>Food</td>\n",
       "    </tr>\n",
       "  </tbody>\n",
       "</table>\n",
       "</div>"
      ],
      "text/plain": [
       "          link                                              title  \\\n",
       "0  0SPwwpruGIA                                               food   \n",
       "1       X6-iv7  CRAZY FOOD HACKS || Unusual Recipes That Will ...   \n",
       "2   BBj2oeJWW4  Egyptian Street Food - Seafood HEAVEN + Tradit...   \n",
       "3   LAsnbgOoGz                                               food   \n",
       "4  LHr1na5DZ44  101 Indian Street Food Dishes to Eat Before Yo...   \n",
       "\n",
       "                                         description category  \n",
       "0  This is the ultimate must-try food bucket list...     Food  \n",
       "1  TIMESTAMPS:\\n00:04 DIY Giant food\\n01:14 Giant...     Food  \n",
       "2  Check out https://ExpressVPN.com/thefoodranger...     Food  \n",
       "3  Download BalleBaazi app \\nManage by -: AdMart....     Food  \n",
       "4  🧳 101 Indian Street Food Dishes Kindle Book: h...     Food  "
      ]
     },
     "execution_count": 144,
     "metadata": {},
     "output_type": "execute_result"
    }
   ],
   "source": [
    "df_food = pd.read_csv(r\"C:\\Users\\Devanand\\Desktop\\Refactored_Py_DS_ML_Bootcamp-master\\food.csv\")\n",
    "df_food['title'] = df_food['title'].replace(np.nan,'food')\n",
    "print(len(df_food))\n",
    "df_food.head()"
   ]
  },
  {
   "cell_type": "code",
   "execution_count": 145,
   "metadata": {},
   "outputs": [
    {
     "name": "stdout",
     "output_type": "stream",
     "text": [
      "538\n"
     ]
    },
    {
     "data": {
      "text/html": [
       "<div>\n",
       "<style scoped>\n",
       "    .dataframe tbody tr th:only-of-type {\n",
       "        vertical-align: middle;\n",
       "    }\n",
       "\n",
       "    .dataframe tbody tr th {\n",
       "        vertical-align: top;\n",
       "    }\n",
       "\n",
       "    .dataframe thead th {\n",
       "        text-align: right;\n",
       "    }\n",
       "</style>\n",
       "<table border=\"1\" class=\"dataframe\">\n",
       "  <thead>\n",
       "    <tr style=\"text-align: right;\">\n",
       "      <th></th>\n",
       "      <th>link</th>\n",
       "      <th>title</th>\n",
       "      <th>description</th>\n",
       "      <th>category</th>\n",
       "    </tr>\n",
       "  </thead>\n",
       "  <tbody>\n",
       "    <tr>\n",
       "      <th>0</th>\n",
       "      <td>XyP_7IZzpeI</td>\n",
       "      <td>manufacturing</td>\n",
       "      <td>Modern Continuous Manufacturing Processes For ...</td>\n",
       "      <td>manufacturing</td>\n",
       "    </tr>\n",
       "    <tr>\n",
       "      <th>1</th>\n",
       "      <td>Y8GT6Wv9mQE</td>\n",
       "      <td>Most Interesting Manufacturing Processes That ...</td>\n",
       "      <td>Amazing Manufacturing Processes Everyone Shoul...</td>\n",
       "      <td>manufacturing</td>\n",
       "    </tr>\n",
       "    <tr>\n",
       "      <th>2</th>\n",
       "      <td>xAv4qKrKvII</td>\n",
       "      <td>Awesome Manufacturing and Processing Methods N...</td>\n",
       "      <td>Awesome Manufacturing and Processing Methods N...</td>\n",
       "      <td>manufacturing</td>\n",
       "    </tr>\n",
       "    <tr>\n",
       "      <th>3</th>\n",
       "      <td>SFomXXXYMX</td>\n",
       "      <td>Amazing Plywood Manufacturing Process ! Extrem...</td>\n",
       "      <td>Woodart is a channel that show all Woodworks:\\...</td>\n",
       "      <td>manufacturing</td>\n",
       "    </tr>\n",
       "    <tr>\n",
       "      <th>4</th>\n",
       "      <td>xh8LdkoAcQ</td>\n",
       "      <td>Most amazing modern manufacturing process tech...</td>\n",
       "      <td>Most amazing modern manufacturing process tech...</td>\n",
       "      <td>manufacturing</td>\n",
       "    </tr>\n",
       "  </tbody>\n",
       "</table>\n",
       "</div>"
      ],
      "text/plain": [
       "          link                                              title  \\\n",
       "0  XyP_7IZzpeI                                      manufacturing   \n",
       "1  Y8GT6Wv9mQE  Most Interesting Manufacturing Processes That ...   \n",
       "2  xAv4qKrKvII  Awesome Manufacturing and Processing Methods N...   \n",
       "3   SFomXXXYMX  Amazing Plywood Manufacturing Process ! Extrem...   \n",
       "4   xh8LdkoAcQ  Most amazing modern manufacturing process tech...   \n",
       "\n",
       "                                         description       category  \n",
       "0  Modern Continuous Manufacturing Processes For ...  manufacturing  \n",
       "1  Amazing Manufacturing Processes Everyone Shoul...  manufacturing  \n",
       "2  Awesome Manufacturing and Processing Methods N...  manufacturing  \n",
       "3  Woodart is a channel that show all Woodworks:\\...  manufacturing  \n",
       "4  Most amazing modern manufacturing process tech...  manufacturing  "
      ]
     },
     "execution_count": 145,
     "metadata": {},
     "output_type": "execute_result"
    }
   ],
   "source": [
    "df_manufacturing = pd.read_csv(r\"C:\\Users\\Devanand\\Desktop\\Refactored_Py_DS_ML_Bootcamp-master\\manufacturing.csv\")\n",
    "df_manufacturing['title'] = df_manufacturing['title'].replace(np.nan,'manufacturing')\n",
    "print(len(df_manufacturing))\n",
    "df_manufacturing.head()"
   ]
  },
  {
   "cell_type": "code",
   "execution_count": 146,
   "metadata": {},
   "outputs": [
    {
     "name": "stdout",
     "output_type": "stream",
     "text": [
      "414\n"
     ]
    },
    {
     "data": {
      "text/html": [
       "<div>\n",
       "<style scoped>\n",
       "    .dataframe tbody tr th:only-of-type {\n",
       "        vertical-align: middle;\n",
       "    }\n",
       "\n",
       "    .dataframe tbody tr th {\n",
       "        vertical-align: top;\n",
       "    }\n",
       "\n",
       "    .dataframe thead th {\n",
       "        text-align: right;\n",
       "    }\n",
       "</style>\n",
       "<table border=\"1\" class=\"dataframe\">\n",
       "  <thead>\n",
       "    <tr style=\"text-align: right;\">\n",
       "      <th></th>\n",
       "      <th>link</th>\n",
       "      <th>title</th>\n",
       "      <th>description</th>\n",
       "      <th>category</th>\n",
       "    </tr>\n",
       "  </thead>\n",
       "  <tbody>\n",
       "    <tr>\n",
       "      <th>0</th>\n",
       "      <td>1UV3zen3lv4</td>\n",
       "      <td>artndance</td>\n",
       "      <td>#toma #luisasonza #mczaac\\nTOMA - Luísa Sonza,...</td>\n",
       "      <td>artndance</td>\n",
       "    </tr>\n",
       "    <tr>\n",
       "      <th>1</th>\n",
       "      <td>ff-y0G205J</td>\n",
       "      <td>NO TE SOLTARE - Yandel, Nicky Jam- Zumba - Reg...</td>\n",
       "      <td>NO TE SOLTARE - Yandel, Nicky Jam- Zumba - Reg...</td>\n",
       "      <td>artndance</td>\n",
       "    </tr>\n",
       "    <tr>\n",
       "      <th>2</th>\n",
       "      <td>l0-INrfxD1Y</td>\n",
       "      <td>WARM UP - Zumba® - ShowMan Pitbull l Choreogra...</td>\n",
       "      <td>WARM UP - Zumba® - ShowMan Pitbull l Choreogra...</td>\n",
       "      <td>artndance</td>\n",
       "    </tr>\n",
       "    <tr>\n",
       "      <th>3</th>\n",
       "      <td>RkNDsETIU5U</td>\n",
       "      <td>VIBE ART DANCE STUDIO - Faraon</td>\n",
       "      <td>Gurinel TV - Prima televiziune a copiilor din ...</td>\n",
       "      <td>artndance</td>\n",
       "    </tr>\n",
       "    <tr>\n",
       "      <th>4</th>\n",
       "      <td>qRVsL1ZP1Y</td>\n",
       "      <td>WARM UP 2018 - Zumba® - Dj Baddmixx - Coreogra...</td>\n",
       "      <td>WARM UP 2018 -  Zumba® - Dj Baddmixx - Coreogr...</td>\n",
       "      <td>artndance</td>\n",
       "    </tr>\n",
       "  </tbody>\n",
       "</table>\n",
       "</div>"
      ],
      "text/plain": [
       "          link                                              title  \\\n",
       "0  1UV3zen3lv4                                          artndance   \n",
       "1   ff-y0G205J  NO TE SOLTARE - Yandel, Nicky Jam- Zumba - Reg...   \n",
       "2  l0-INrfxD1Y  WARM UP - Zumba® - ShowMan Pitbull l Choreogra...   \n",
       "3  RkNDsETIU5U                     VIBE ART DANCE STUDIO - Faraon   \n",
       "4   qRVsL1ZP1Y  WARM UP 2018 - Zumba® - Dj Baddmixx - Coreogra...   \n",
       "\n",
       "                                         description   category  \n",
       "0  #toma #luisasonza #mczaac\\nTOMA - Luísa Sonza,...  artndance  \n",
       "1  NO TE SOLTARE - Yandel, Nicky Jam- Zumba - Reg...  artndance  \n",
       "2  WARM UP - Zumba® - ShowMan Pitbull l Choreogra...  artndance  \n",
       "3  Gurinel TV - Prima televiziune a copiilor din ...  artndance  \n",
       "4  WARM UP 2018 -  Zumba® - Dj Baddmixx - Coreogr...  artndance  "
      ]
     },
     "execution_count": 146,
     "metadata": {},
     "output_type": "execute_result"
    }
   ],
   "source": [
    "df_artndance = pd.read_csv(r\"C:\\Users\\Devanand\\Desktop\\Refactored_Py_DS_ML_Bootcamp-master\\artndance.csv\")\n",
    "df_artndance['title'] = df_artndance['title'].replace(np.nan,'artndance')\n",
    "print(len(df_artndance))\n",
    "df_artndance.head()"
   ]
  },
  {
   "cell_type": "code",
   "execution_count": 147,
   "metadata": {},
   "outputs": [],
   "source": [
    "min_size = min(len(df_travel),len(df_science),len(df_food),len(df_history),len(df_manufacturing),len(df_artndance))"
   ]
  },
  {
   "cell_type": "code",
   "execution_count": 148,
   "metadata": {},
   "outputs": [
    {
     "data": {
      "text/plain": [
       "414"
      ]
     },
     "execution_count": 148,
     "metadata": {},
     "output_type": "execute_result"
    }
   ],
   "source": [
    "min_size"
   ]
  },
  {
   "cell_type": "code",
   "execution_count": 151,
   "metadata": {},
   "outputs": [],
   "source": [
    "frames = [df_travel[:min_size], df_science[:min_size], df_food[:min_size], df_history[:min_size],\n",
    "          df_manufacturing[:min_size], df_artndance[:min_size]]\n",
    "df_copy = pd.concat(frames, axis=0, join='outer', ignore_index=True,\n",
    "                            keys=None, levels=None, names=None, verify_integrity=False, copy=True)"
   ]
  },
  {
   "cell_type": "code",
   "execution_count": 152,
   "metadata": {},
   "outputs": [
    {
     "data": {
      "text/plain": [
       "2484"
      ]
     },
     "execution_count": 152,
     "metadata": {},
     "output_type": "execute_result"
    }
   ],
   "source": [
    "len(df_copy)"
   ]
  },
  {
   "cell_type": "code",
   "execution_count": 153,
   "metadata": {},
   "outputs": [],
   "source": [
    "df_link = pd.DataFrame(columns = [\"link\"])        \n",
    "df_title = pd.DataFrame(columns = [\"title\"])        \n",
    "df_description = pd.DataFrame(columns = [\"description\"])        \n",
    "df_category = pd.DataFrame(columns = [\"category\"])        \n",
    "df_link['link'] = df_copy['link'] \n",
    "df_title ['title']= df_copy['title'] \n",
    "df_description['description'] = df_copy['description'] \n",
    "df_category['category'] = df_copy['category']"
   ]
  },
  {
   "cell_type": "code",
   "execution_count": 154,
   "metadata": {},
   "outputs": [
    {
     "name": "stderr",
     "output_type": "stream",
     "text": [
      "[nltk_data] Downloading package stopwords to\n",
      "[nltk_data]     C:\\Users\\Devanand\\AppData\\Roaming\\nltk_data...\n",
      "[nltk_data]   Unzipping corpora\\stopwords.zip.\n"
     ]
    }
   ],
   "source": [
    "import re \n",
    "import nltk \n",
    "nltk.download('stopwords') \n",
    "from nltk.corpus import stopwords \n",
    "from nltk.stem.porter import PorterStemmer\n"
   ]
  },
  {
   "cell_type": "code",
   "execution_count": 155,
   "metadata": {},
   "outputs": [
    {
     "data": {
      "text/plain": [
       "2484"
      ]
     },
     "execution_count": 155,
     "metadata": {},
     "output_type": "execute_result"
    }
   ],
   "source": [
    "len(df_title)"
   ]
  },
  {
   "cell_type": "code",
   "execution_count": 156,
   "metadata": {},
   "outputs": [],
   "source": [
    "corpus = []        \n",
    "for i in range(0, len(df_title)):\n",
    "    if type(df_title['title'][i])==str :\n",
    "      review = re.sub(\"[^a-zA-Z]\",' ', df_title['title'][i])            \n",
    "      review = review.lower()            \n",
    "      review = review.split()            \n",
    "      ps = PorterStemmer()            \n",
    "      review = [ps.stem(word) for word in review if not word in set(stopwords.words('english'))]            \n",
    "      review = ' '.join(review)            \n",
    "      corpus.append(review)"
   ]
  },
  {
   "cell_type": "code",
   "execution_count": 160,
   "metadata": {},
   "outputs": [
    {
     "name": "stdout",
     "output_type": "stream",
     "text": [
      "2484\n"
     ]
    },
    {
     "data": {
      "text/plain": [
       "['travel',\n",
       " 'travel',\n",
       " 'travel',\n",
       " 'travel',\n",
       " 'travel',\n",
       " 'travel',\n",
       " 'travel',\n",
       " 'travel',\n",
       " 'travel',\n",
       " 'travel',\n",
       " 'travel',\n",
       " 'travel',\n",
       " 'travel',\n",
       " 'travel',\n",
       " 'travel',\n",
       " 'travel',\n",
       " 'travel',\n",
       " 'travel',\n",
       " 'travel',\n",
       " 'travel least visit countri world']"
      ]
     },
     "execution_count": 160,
     "metadata": {},
     "output_type": "execute_result"
    }
   ],
   "source": [
    "print(len(corpus))\n",
    "corpus[:20]"
   ]
  },
  {
   "cell_type": "code",
   "execution_count": 161,
   "metadata": {},
   "outputs": [
    {
     "data": {
      "text/plain": [
       "2484"
      ]
     },
     "execution_count": 161,
     "metadata": {},
     "output_type": "execute_result"
    }
   ],
   "source": [
    "len(df_description)"
   ]
  },
  {
   "cell_type": "code",
   "execution_count": 162,
   "metadata": {},
   "outputs": [],
   "source": [
    "corpus1 = [] \n",
    "for i in range(0, len(df_description)):        \n",
    "    if type(df_description['description'][i])==str:\n",
    "      review = re.sub('[^a-zA-Z]', ' ', df_description['description'][i])            \n",
    "      review = review.lower()            \n",
    "      review = review.split()            \n",
    "      ps = PorterStemmer()            \n",
    "      review = [ps.stem(word) for word in review if not word in set(stopwords.words('english'))]            \n",
    "      review = ' '.join(review)            \n",
    "      corpus1.append(review)"
   ]
  },
  {
   "cell_type": "code",
   "execution_count": 163,
   "metadata": {},
   "outputs": [
    {
     "data": {
      "text/plain": [
       "['journey arunach north east india begin train journey guwahati murkongselek head pasighat travel companion get start explor tini glimps arunach far market bridg adventur get better next video']"
      ]
     },
     "execution_count": 163,
     "metadata": {},
     "output_type": "execute_result"
    }
   ],
   "source": [
    "corpus1[:1]\n"
   ]
  },
  {
   "cell_type": "code",
   "execution_count": 164,
   "metadata": {},
   "outputs": [],
   "source": [
    "dftitle = pd.DataFrame({'title':corpus})\n",
    "dfdescription = pd.DataFrame({'description':corpus1})"
   ]
  },
  {
   "cell_type": "code",
   "execution_count": 165,
   "metadata": {},
   "outputs": [
    {
     "data": {
      "text/plain": [
       "{'Food', 'Science', 'Travel', 'artndance', 'history', 'manufacturing'}"
      ]
     },
     "execution_count": 165,
     "metadata": {},
     "output_type": "execute_result"
    }
   ],
   "source": [
    "set(df_category['category'])"
   ]
  },
  {
   "cell_type": "code",
   "execution_count": 166,
   "metadata": {},
   "outputs": [
    {
     "data": {
      "text/html": [
       "<div>\n",
       "<style scoped>\n",
       "    .dataframe tbody tr th:only-of-type {\n",
       "        vertical-align: middle;\n",
       "    }\n",
       "\n",
       "    .dataframe tbody tr th {\n",
       "        vertical-align: top;\n",
       "    }\n",
       "\n",
       "    .dataframe thead th {\n",
       "        text-align: right;\n",
       "    }\n",
       "</style>\n",
       "<table border=\"1\" class=\"dataframe\">\n",
       "  <thead>\n",
       "    <tr style=\"text-align: right;\">\n",
       "      <th></th>\n",
       "      <th>category</th>\n",
       "    </tr>\n",
       "  </thead>\n",
       "  <tbody>\n",
       "    <tr>\n",
       "      <th>0</th>\n",
       "      <td>2</td>\n",
       "    </tr>\n",
       "    <tr>\n",
       "      <th>1</th>\n",
       "      <td>2</td>\n",
       "    </tr>\n",
       "    <tr>\n",
       "      <th>2</th>\n",
       "      <td>2</td>\n",
       "    </tr>\n",
       "    <tr>\n",
       "      <th>3</th>\n",
       "      <td>2</td>\n",
       "    </tr>\n",
       "    <tr>\n",
       "      <th>4</th>\n",
       "      <td>2</td>\n",
       "    </tr>\n",
       "    <tr>\n",
       "      <th>...</th>\n",
       "      <td>...</td>\n",
       "    </tr>\n",
       "    <tr>\n",
       "      <th>2479</th>\n",
       "      <td>3</td>\n",
       "    </tr>\n",
       "    <tr>\n",
       "      <th>2480</th>\n",
       "      <td>3</td>\n",
       "    </tr>\n",
       "    <tr>\n",
       "      <th>2481</th>\n",
       "      <td>3</td>\n",
       "    </tr>\n",
       "    <tr>\n",
       "      <th>2482</th>\n",
       "      <td>3</td>\n",
       "    </tr>\n",
       "    <tr>\n",
       "      <th>2483</th>\n",
       "      <td>3</td>\n",
       "    </tr>\n",
       "  </tbody>\n",
       "</table>\n",
       "<p>2484 rows × 1 columns</p>\n",
       "</div>"
      ],
      "text/plain": [
       "      category\n",
       "0            2\n",
       "1            2\n",
       "2            2\n",
       "3            2\n",
       "4            2\n",
       "...        ...\n",
       "2479         3\n",
       "2480         3\n",
       "2481         3\n",
       "2482         3\n",
       "2483         3\n",
       "\n",
       "[2484 rows x 1 columns]"
      ]
     },
     "execution_count": 166,
     "metadata": {},
     "output_type": "execute_result"
    }
   ],
   "source": [
    "from sklearn.preprocessing import LabelEncoder\n",
    "dfcategory = df_category.apply(LabelEncoder().fit_transform)\n",
    "dfcategory"
   ]
  },
  {
   "cell_type": "code",
   "execution_count": 183,
   "metadata": {},
   "outputs": [
    {
     "data": {
      "text/html": [
       "<div>\n",
       "<style scoped>\n",
       "    .dataframe tbody tr th:only-of-type {\n",
       "        vertical-align: middle;\n",
       "    }\n",
       "\n",
       "    .dataframe tbody tr th {\n",
       "        vertical-align: top;\n",
       "    }\n",
       "\n",
       "    .dataframe thead th {\n",
       "        text-align: right;\n",
       "    }\n",
       "</style>\n",
       "<table border=\"1\" class=\"dataframe\">\n",
       "  <thead>\n",
       "    <tr style=\"text-align: right;\">\n",
       "      <th></th>\n",
       "      <th>link</th>\n",
       "      <th>title</th>\n",
       "      <th>description</th>\n",
       "      <th>category</th>\n",
       "    </tr>\n",
       "  </thead>\n",
       "  <tbody>\n",
       "    <tr>\n",
       "      <th>0</th>\n",
       "      <td>JLZlCZ0</td>\n",
       "      <td>travel</td>\n",
       "      <td>journey arunach north east india begin train j...</td>\n",
       "      <td>2</td>\n",
       "    </tr>\n",
       "    <tr>\n",
       "      <th>1</th>\n",
       "      <td>CWqFw9kmCn</td>\n",
       "      <td>travel</td>\n",
       "      <td>millenni simpli quit job travel gener insati w...</td>\n",
       "      <td>2</td>\n",
       "    </tr>\n",
       "    <tr>\n",
       "      <th>2</th>\n",
       "      <td>ODuEl4oNae0</td>\n",
       "      <td>travel</td>\n",
       "      <td>know least visit countri world experi incred s...</td>\n",
       "      <td>2</td>\n",
       "    </tr>\n",
       "    <tr>\n",
       "      <th>3</th>\n",
       "      <td>Qmi-Xwq-ME</td>\n",
       "      <td>travel</td>\n",
       "      <td>select one person make purchas seek discomfort...</td>\n",
       "      <td>2</td>\n",
       "    </tr>\n",
       "    <tr>\n",
       "      <th>4</th>\n",
       "      <td>_ch7hYh4BtA</td>\n",
       "      <td>travel</td>\n",
       "      <td>explor somalia travel coast instagram photo so...</td>\n",
       "      <td>2</td>\n",
       "    </tr>\n",
       "    <tr>\n",
       "      <th>...</th>\n",
       "      <td>...</td>\n",
       "      <td>...</td>\n",
       "      <td>...</td>\n",
       "      <td>...</td>\n",
       "    </tr>\n",
       "    <tr>\n",
       "      <th>2479</th>\n",
       "      <td>qpheb6uWkYM</td>\n",
       "      <td>drupadi mila art danc gyeongju world cultur fe...</td>\n",
       "      <td>NaN</td>\n",
       "      <td>3</td>\n",
       "    </tr>\n",
       "    <tr>\n",
       "      <th>2480</th>\n",
       "      <td>nGaDQsQeF</td>\n",
       "      <td>eto ta jabroso megamix salsa choke coreografia...</td>\n",
       "      <td>NaN</td>\n",
       "      <td>3</td>\n",
       "    </tr>\n",
       "    <tr>\n",
       "      <th>2481</th>\n",
       "      <td>LhSo_1r_G</td>\n",
       "      <td>dura daddi yanke coreografia l cia art danc l ...</td>\n",
       "      <td>NaN</td>\n",
       "      <td>3</td>\n",
       "    </tr>\n",
       "    <tr>\n",
       "      <th>2482</th>\n",
       "      <td>0w3ksavmveU</td>\n",
       "      <td>temur tsnobiladz tiko chitidz art danc</td>\n",
       "      <td>NaN</td>\n",
       "      <td>3</td>\n",
       "    </tr>\n",
       "    <tr>\n",
       "      <th>2483</th>\n",
       "      <td>85eo8cB1Kg</td>\n",
       "      <td>rabiola mc kevinho coreografia l cia art danc</td>\n",
       "      <td>NaN</td>\n",
       "      <td>3</td>\n",
       "    </tr>\n",
       "  </tbody>\n",
       "</table>\n",
       "<p>2484 rows × 4 columns</p>\n",
       "</div>"
      ],
      "text/plain": [
       "             link                                              title  \\\n",
       "0         JLZlCZ0                                             travel   \n",
       "1      CWqFw9kmCn                                             travel   \n",
       "2     ODuEl4oNae0                                             travel   \n",
       "3      Qmi-Xwq-ME                                             travel   \n",
       "4     _ch7hYh4BtA                                             travel   \n",
       "...           ...                                                ...   \n",
       "2479  qpheb6uWkYM  drupadi mila art danc gyeongju world cultur fe...   \n",
       "2480    nGaDQsQeF  eto ta jabroso megamix salsa choke coreografia...   \n",
       "2481    LhSo_1r_G  dura daddi yanke coreografia l cia art danc l ...   \n",
       "2482  0w3ksavmveU             temur tsnobiladz tiko chitidz art danc   \n",
       "2483   85eo8cB1Kg      rabiola mc kevinho coreografia l cia art danc   \n",
       "\n",
       "                                            description  category  \n",
       "0     journey arunach north east india begin train j...         2  \n",
       "1     millenni simpli quit job travel gener insati w...         2  \n",
       "2     know least visit countri world experi incred s...         2  \n",
       "3     select one person make purchas seek discomfort...         2  \n",
       "4     explor somalia travel coast instagram photo so...         2  \n",
       "...                                                 ...       ...  \n",
       "2479                                                NaN         3  \n",
       "2480                                                NaN         3  \n",
       "2481                                                NaN         3  \n",
       "2482                                                NaN         3  \n",
       "2483                                                NaN         3  \n",
       "\n",
       "[2484 rows x 4 columns]"
      ]
     },
     "execution_count": 183,
     "metadata": {},
     "output_type": "execute_result"
    }
   ],
   "source": [
    "df_new = pd.concat([df_link, dftitle, dfdescription, dfcategory], axis=1)\n",
    "df_new"
   ]
  },
  {
   "cell_type": "code",
   "execution_count": 223,
   "metadata": {},
   "outputs": [],
   "source": [
    "from sklearn.feature_extraction.text import CountVectorizer   \n",
    "cv = CountVectorizer(max_features=1500) \n",
    "X = cv.fit_transform(corpus, corpus1).toarray() \n",
    "y = df_new.iloc[:, 3].values"
   ]
  },
  {
   "cell_type": "code",
   "execution_count": 244,
   "metadata": {},
   "outputs": [
    {
     "data": {
      "text/plain": [
       "array([0, 0, 0, ..., 0, 0, 0], dtype=int64)"
      ]
     },
     "execution_count": 244,
     "metadata": {},
     "output_type": "execute_result"
    }
   ],
   "source": [
    "df_zer=X[1000]\n",
    "df_zer"
   ]
  },
  {
   "cell_type": "code",
   "execution_count": 237,
   "metadata": {},
   "outputs": [],
   "source": [
    "from sklearn.model_selection import train_test_split\n",
    "X_train, X_test, y_train, y_test = train_test_split(X, y, test_size = 0.30, random_state = 101)"
   ]
  },
  {
   "cell_type": "code",
   "execution_count": 238,
   "metadata": {},
   "outputs": [
    {
     "data": {
      "text/plain": [
       "RandomForestClassifier(criterion='entropy', max_features=6)"
      ]
     },
     "execution_count": 238,
     "metadata": {},
     "output_type": "execute_result"
    }
   ],
   "source": [
    "from sklearn.ensemble import RandomForestClassifier\n",
    "classifier = RandomForestClassifier(n_estimators = 100,criterion = 'entropy',max_features=6)\n",
    "classifier.fit(X_train, y_train)"
   ]
  },
  {
   "cell_type": "code",
   "execution_count": 239,
   "metadata": {},
   "outputs": [
    {
     "data": {
      "text/plain": [
       "0.9919571045576407"
      ]
     },
     "execution_count": 239,
     "metadata": {},
     "output_type": "execute_result"
    }
   ],
   "source": [
    "y_pred = classifier.predict(X_test)\n",
    "classifier.score(X_test, y_test)"
   ]
  },
  {
   "cell_type": "code",
   "execution_count": 240,
   "metadata": {},
   "outputs": [
    {
     "name": "stdout",
     "output_type": "stream",
     "text": [
      "              precision    recall  f1-score   support\n",
      "\n",
      "           0       0.99      1.00      0.99       133\n",
      "           1       0.98      0.99      0.98       122\n",
      "           2       1.00      0.98      0.99       139\n",
      "           3       1.00      1.00      1.00       119\n",
      "           4       0.99      0.99      0.99       118\n",
      "           5       1.00      0.99      1.00       115\n",
      "\n",
      "    accuracy                           0.99       746\n",
      "   macro avg       0.99      0.99      0.99       746\n",
      "weighted avg       0.99      0.99      0.99       746\n",
      "\n"
     ]
    }
   ],
   "source": [
    "from sklearn.metrics import classification_report\n",
    "print(classification_report(y_test, y_pred))"
   ]
  },
  {
   "cell_type": "code",
   "execution_count": 241,
   "metadata": {},
   "outputs": [
    {
     "name": "stdout",
     "output_type": "stream",
     "text": [
      "[[133   0   0   0   0   0]\n",
      " [  0 121   0   0   1   0]\n",
      " [  2   1 136   0   0   0]\n",
      " [  0   0   0 119   0   0]\n",
      " [  0   1   0   0 117   0]\n",
      " [  0   1   0   0   0 114]]\n"
     ]
    }
   ],
   "source": [
    "from sklearn.metrics import confusion_matrix\n",
    "cm = confusion_matrix(y_test, y_pred)\n",
    "print(cm)"
   ]
  },
  {
   "cell_type": "code",
   "execution_count": 245,
   "metadata": {},
   "outputs": [
    {
     "data": {
      "text/plain": [
       "array([0])"
      ]
     },
     "execution_count": 245,
     "metadata": {},
     "output_type": "execute_result"
    }
   ],
   "source": [
    "classifier.predict(df_zer.reshape(-1,1500))"
   ]
  },
  {
   "cell_type": "code",
   "execution_count": null,
   "metadata": {},
   "outputs": [],
   "source": []
  }
 ],
 "metadata": {
  "kernelspec": {
   "display_name": "Python 3",
   "language": "python",
   "name": "python3"
  },
  "language_info": {
   "codemirror_mode": {
    "name": "ipython",
    "version": 3
   },
   "file_extension": ".py",
   "mimetype": "text/x-python",
   "name": "python",
   "nbconvert_exporter": "python",
   "pygments_lexer": "ipython3",
   "version": "3.8.3"
  }
 },
 "nbformat": 4,
 "nbformat_minor": 4
}
